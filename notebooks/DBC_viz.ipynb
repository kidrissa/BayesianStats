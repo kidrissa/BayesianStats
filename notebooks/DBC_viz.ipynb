{
 "cells": [
  {
   "cell_type": "code",
   "execution_count": null,
   "id": "fd845153",
   "metadata": {},
   "outputs": [],
   "source": [
    "from os import chdir\n",
    "chdir(\"../\")\n",
    "import pandas as pd\n",
    "import numpy as np\n",
    "from sklearn.linear_model import LinearRegression\n",
    "from sklearn.preprocessing import MinMaxScaler\n",
    "from matplotlib import pyplot as plt\n",
    "import seaborn as sns\n",
    "from src.model.dp_ppms_model import estim_bayes_theta, clustering_2"
   ]
  },
  {
   "cell_type": "code",
   "execution_count": null,
   "id": "8e50ae78",
   "metadata": {},
   "outputs": [],
   "source": [
    "data = pd.read_csv(\"./data/mcs_ds_edited_iter_shuffled.csv\", sep=\",\")\n",
    "y = data.ale\n",
    "x = data[[\"anchor_ratio\", \"trans_range\", \"node_density\", \"iterations\"]]"
   ]
  },
  {
   "cell_type": "code",
   "execution_count": null,
   "id": "c121f0fd",
   "metadata": {},
   "outputs": [],
   "source": [
    "data.head(5)"
   ]
  },
  {
   "attachments": {},
   "cell_type": "markdown",
   "id": "bdfc960e",
   "metadata": {},
   "source": [
    "Dans le but de calculer la loss $SC_{ k1,k2,k3}$, il faut calculer les estimateurs $\\hat{\\eta}_{B}$ et $\\hat{\\eta}_{\\phi}$. Les fonctions suivantes sont faites dans le but de calculer respectivement $\\hat{\\theta}_{B}$, $\\hat{\\beta}_{B}$, $\\hat{\\sigma}^{2}_{B}$, $\\hat{\\theta}_{\\phi}$, $\\hat{\\beta}_{\\phi}$, $\\hat{\\sigma}^{2}_{\\phi}$ de l'algorithme. Pour le faire, nous calculons les distribution a posteriori de $\\eta | y$ et $\\eta |y,\\phi$ et nous déduisons l'espérance de ces distributions. Les fonctions ci-dessous sont faites après calcul à la main de ces distributions. Après calcul, nous obtenons: \n",
    "\n",
    "- $\\beta|y \\sim \\mathcal{N} \\left(  \\left(n\\bar{y}-\\theta_{k}\\right)1_{n}-\\beta_{0},\\sigma_{0}^{2}B_{0}x_{i}^{\\top}x_{i} \\right)$ où $1_{n}$ représente le vecteur constitué des 1, de même taille que $\\beta_{0}$\n",
    "- $\\sigma^{2}|y \\sim I\\Gamma \\left( \\nu_{0}-\\frac{n}{2},\\sum_{i=1}^{n}(y_{i}-\\theta_{k}-x_{i}^{\\top}\\beta)^{2}+\\lambda_{0}\\right)$"
   ]
  },
  {
   "cell_type": "code",
   "execution_count": null,
   "id": "81c06300",
   "metadata": {},
   "outputs": [],
   "source": [
    "theta = estim_bayes_theta(x,y,theta0=0,tau0=1000,phi = np.array([range(len(y))]),c=12)"
   ]
  },
  {
   "cell_type": "code",
   "execution_count": null,
   "id": "25ac6053",
   "metadata": {},
   "outputs": [],
   "source": [
    "fig, axe =  plt.subplots(1, 1, figsize=(9, 5.5))\n",
    "axe.plot(list(data.index), theta,linestyle='',marker='o')\n",
    "axe.set_ylabel(\"value of $\\\\theta_j$\")\n",
    "axe.set_xlabel(\"index of sonser\")\n",
    "plt.savefig(\"theta.pgf\", format='pgf')\n",
    "plt.show()"
   ]
  },
  {
   "cell_type": "code",
   "execution_count": null,
   "id": "ffc3099e",
   "metadata": {},
   "outputs": [],
   "source": [
    "clustering_2(y,x,theta0=0,beta0=0,tau0=1000,lamda_0=2,nu_0=1,c=12,k1=0.001,k2=0.098,k3=0.9,epsilon=10^-1)"
   ]
  },
  {
   "cell_type": "code",
   "execution_count": null,
   "id": "36c29b4e",
   "metadata": {},
   "outputs": [],
   "source": []
  }
 ],
 "metadata": {
  "kernelspec": {
   "display_name": "Python 3",
   "language": "python",
   "name": "python3"
  },
  "language_info": {
   "codemirror_mode": {
    "name": "ipython",
    "version": 3
   },
   "file_extension": ".py",
   "mimetype": "text/x-python",
   "name": "python",
   "nbconvert_exporter": "python",
   "pygments_lexer": "ipython3",
   "version": "3.8.10"
  },
  "vscode": {
   "interpreter": {
    "hash": "916dbcbb3f70747c44a77c7bcd40155683ae19c65e1c03b4aa3499c5328201f1"
   }
  }
 },
 "nbformat": 4,
 "nbformat_minor": 5
}
