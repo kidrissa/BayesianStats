{
 "cells": [
  {
   "cell_type": "code",
   "execution_count": null,
   "metadata": {},
   "outputs": [],
   "source": [
    "import os\n",
    "import pandas as pd\n",
    "import numpy as np\n",
    "import matplotlib.pylab as plt\n",
    "import seaborn as sns\n",
    "\n",
    "os.chdir(\"../\")\n",
    "\n",
    "from sklearn.preprocessing import MinMaxScaler\n",
    "from src.models import ModelBasedClustering\n",
    "import statsmodels.api as sm"
   ]
  },
  {
   "cell_type": "code",
   "execution_count": null,
   "metadata": {},
   "outputs": [],
   "source": [
    "sns.set_theme()\n",
    "plt.rcParams['pgf.texsystem']"
   ]
  },
  {
   "cell_type": "code",
   "execution_count": null,
   "metadata": {},
   "outputs": [],
   "source": [
    "data_ale = pd.read_csv(f\"./data/mcs_ds_edited_iter_shuffled.csv\")\n",
    "data_ale = data_ale[[\"ale\", \"anchor_ratio\", \"trans_range\", \"node_density\", \"iterations\"]].reset_index()"
   ]
  },
  {
   "cell_type": "code",
   "execution_count": null,
   "metadata": {},
   "outputs": [],
   "source": [
    "data_ale.head()"
   ]
  },
  {
   "attachments": {},
   "cell_type": "markdown",
   "metadata": {},
   "source": [
    "# Linear Regression"
   ]
  },
  {
   "cell_type": "code",
   "execution_count": null,
   "metadata": {},
   "outputs": [],
   "source": [
    "ale_model = sm.OLS(data_ale.iloc[:, [1]], sm.add_constant(data_ale.iloc[:, 2:])).fit()\n",
    "fig, axe =  plt.subplots(1, 1, figsize=(12, 7))\n",
    "fig = sm.graphics.influence_plot(ale_model, criterion=\"cooks\", ax=axe)\n",
    "fig.tight_layout(pad=1.0)"
   ]
  },
  {
   "attachments": {},
   "cell_type": "markdown",
   "metadata": {},
   "source": [
    "# Clustering Analysis"
   ]
  },
  {
   "cell_type": "code",
   "execution_count": null,
   "metadata": {},
   "outputs": [],
   "source": [
    "dict_clustering_data = {\n",
    "    \"K\": [],\n",
    "    \"init_Clusters\": [],\n",
    "    \"MBC_Clusters\": [],\n",
    "    \"BIC_val\": []\n",
    "}\n",
    "N_iterations = 100"
   ]
  },
  {
   "cell_type": "code",
   "execution_count": null,
   "metadata": {},
   "outputs": [],
   "source": [
    "for K in range(1, 5):\n",
    "    _mbc_model = ModelBasedClustering(data_ale, K)\n",
    "    init_Clusters = _mbc_model.initZ()\n",
    "    MBC_Clusters, BIC_val = _mbc_model.EM_algo(N_iterations)\n",
    "    dict_clustering_data[\"K\"].append(K)\n",
    "    dict_clustering_data[\"init_Clusters\"].append(init_Clusters)\n",
    "    dict_clustering_data[\"MBC_Clusters\"].append(MBC_Clusters)\n",
    "    dict_clustering_data[\"BIC_val\"].append(BIC_val)"
   ]
  },
  {
   "cell_type": "code",
   "execution_count": null,
   "metadata": {},
   "outputs": [],
   "source": [
    "fig, axe =  plt.subplots(1, 1, figsize=(9, 5.5))\n",
    "axe.plot(dict_clustering_data[\"K\"], dict_clustering_data[\"BIC_val\"])\n",
    "axe.set_ylabel(\"BIC\")\n",
    "axe.set_xlabel(\"Number of clusters\")\n",
    "#plt.savefig(\"./figs/bic_ale.pgf\", format='pgf')\n",
    "plt.show()"
   ]
  },
  {
   "cell_type": "code",
   "execution_count": null,
   "metadata": {},
   "outputs": [],
   "source": [
    "list_BIC = np.array(dict_clustering_data[\"BIC_val\"]).reshape(-1)"
   ]
  },
  {
   "cell_type": "code",
   "execution_count": null,
   "metadata": {},
   "outputs": [],
   "source": [
    "K = 1 + list_BIC.tolist().index(list_BIC.max())"
   ]
  },
  {
   "cell_type": "code",
   "execution_count": null,
   "metadata": {},
   "outputs": [],
   "source": [
    "data_ale.insert(1, \"Kmeans_clusters\", [1+list(dict_clustering_data[\"init_Clusters\"][K-1][n]).index(1) for n in range(dict_clustering_data[\"MBC_Clusters\"][K-1].shape[0])])"
   ]
  },
  {
   "cell_type": "code",
   "execution_count": null,
   "metadata": {},
   "outputs": [],
   "source": [
    "data_ale.insert(1, \"clusters\", [1+list(dict_clustering_data[\"MBC_Clusters\"][K-1][n]).index(1) for n in range(dict_clustering_data[\"MBC_Clusters\"][K-1].shape[0])])"
   ]
  },
  {
   "cell_type": "code",
   "execution_count": null,
   "metadata": {},
   "outputs": [],
   "source": [
    "data_ale[data_ale.clusters==1].reset_index(drop=True)"
   ]
  },
  {
   "cell_type": "code",
   "execution_count": null,
   "metadata": {},
   "outputs": [],
   "source": [
    "data_ale[data_ale.clusters==2].reset_index(drop=True)"
   ]
  },
  {
   "cell_type": "code",
   "execution_count": null,
   "metadata": {},
   "outputs": [],
   "source": [
    "data_ale[data_ale.clusters==3].reset_index(drop=True)"
   ]
  },
  {
   "cell_type": "code",
   "execution_count": null,
   "metadata": {},
   "outputs": [],
   "source": [
    "data_ale[data_ale.clusters==4].reset_index(drop=True)"
   ]
  },
  {
   "cell_type": "code",
   "execution_count": null,
   "metadata": {},
   "outputs": [],
   "source": []
  }
 ],
 "metadata": {
  "kernelspec": {
   "display_name": "Python 3",
   "language": "python",
   "name": "python3"
  },
  "language_info": {
   "codemirror_mode": {
    "name": "ipython",
    "version": 3
   },
   "file_extension": ".py",
   "mimetype": "text/x-python",
   "name": "python",
   "nbconvert_exporter": "python",
   "pygments_lexer": "ipython3",
   "version": "3.10.12"
  },
  "orig_nbformat": 4,
  "vscode": {
   "interpreter": {
    "hash": "916dbcbb3f70747c44a77c7bcd40155683ae19c65e1c03b4aa3499c5328201f1"
   }
  }
 },
 "nbformat": 4,
 "nbformat_minor": 2
}
