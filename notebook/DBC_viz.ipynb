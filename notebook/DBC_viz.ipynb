{
 "cells": [
  {
   "cell_type": "code",
   "execution_count": 29,
   "id": "fd845153",
   "metadata": {},
   "outputs": [],
   "source": [
    "import pandas as pd\n",
    "import numpy as np\n",
    "from sklearn.linear_model import LinearRegression\n",
    "from matplotlib import pyplot as plt"
   ]
  },
  {
   "cell_type": "code",
   "execution_count": 2,
   "id": "8e50ae78",
   "metadata": {},
   "outputs": [],
   "source": [
    "data = pd.read_csv(\"mcs_ds_edited_iter_shuffled.csv\",sep=\",\")"
   ]
  },
  {
   "cell_type": "code",
   "execution_count": 3,
   "id": "c121f0fd",
   "metadata": {},
   "outputs": [
    {
     "data": {
      "text/html": [
       "<div>\n",
       "<style scoped>\n",
       "    .dataframe tbody tr th:only-of-type {\n",
       "        vertical-align: middle;\n",
       "    }\n",
       "\n",
       "    .dataframe tbody tr th {\n",
       "        vertical-align: top;\n",
       "    }\n",
       "\n",
       "    .dataframe thead th {\n",
       "        text-align: right;\n",
       "    }\n",
       "</style>\n",
       "<table border=\"1\" class=\"dataframe\">\n",
       "  <thead>\n",
       "    <tr style=\"text-align: right;\">\n",
       "      <th></th>\n",
       "      <th>anchor_ratio</th>\n",
       "      <th>trans_range</th>\n",
       "      <th>node_density</th>\n",
       "      <th>iterations</th>\n",
       "      <th>ale</th>\n",
       "      <th>sd_ale</th>\n",
       "    </tr>\n",
       "  </thead>\n",
       "  <tbody>\n",
       "    <tr>\n",
       "      <th>0</th>\n",
       "      <td>30</td>\n",
       "      <td>15</td>\n",
       "      <td>200</td>\n",
       "      <td>40</td>\n",
       "      <td>0.773546</td>\n",
       "      <td>0.250555</td>\n",
       "    </tr>\n",
       "    <tr>\n",
       "      <th>1</th>\n",
       "      <td>15</td>\n",
       "      <td>15</td>\n",
       "      <td>100</td>\n",
       "      <td>70</td>\n",
       "      <td>0.911941</td>\n",
       "      <td>0.498329</td>\n",
       "    </tr>\n",
       "    <tr>\n",
       "      <th>2</th>\n",
       "      <td>30</td>\n",
       "      <td>15</td>\n",
       "      <td>100</td>\n",
       "      <td>50</td>\n",
       "      <td>0.814867</td>\n",
       "      <td>0.255546</td>\n",
       "    </tr>\n",
       "    <tr>\n",
       "      <th>3</th>\n",
       "      <td>15</td>\n",
       "      <td>20</td>\n",
       "      <td>100</td>\n",
       "      <td>20</td>\n",
       "      <td>1.435332</td>\n",
       "      <td>0.394603</td>\n",
       "    </tr>\n",
       "    <tr>\n",
       "      <th>4</th>\n",
       "      <td>30</td>\n",
       "      <td>15</td>\n",
       "      <td>100</td>\n",
       "      <td>40</td>\n",
       "      <td>1.265909</td>\n",
       "      <td>0.302943</td>\n",
       "    </tr>\n",
       "  </tbody>\n",
       "</table>\n",
       "</div>"
      ],
      "text/plain": [
       "   anchor_ratio  trans_range  node_density  iterations       ale    sd_ale\n",
       "0            30           15           200          40  0.773546  0.250555\n",
       "1            15           15           100          70  0.911941  0.498329\n",
       "2            30           15           100          50  0.814867  0.255546\n",
       "3            15           20           100          20  1.435332  0.394603\n",
       "4            30           15           100          40  1.265909  0.302943"
      ]
     },
     "execution_count": 3,
     "metadata": {},
     "output_type": "execute_result"
    }
   ],
   "source": [
    "data.head(5)"
   ]
  },
  {
   "cell_type": "code",
   "execution_count": 4,
   "id": "b56a5199",
   "metadata": {},
   "outputs": [],
   "source": [
    "y =data.ale\n",
    "x = data[[\"anchor_ratio\", \"trans_range\", \"node_density\", \"iterations\"]]"
   ]
  },
  {
   "cell_type": "code",
   "execution_count": 11,
   "id": "bc2df586",
   "metadata": {},
   "outputs": [
    {
     "data": {
      "text/html": [
       "<div>\n",
       "<style scoped>\n",
       "    .dataframe tbody tr th:only-of-type {\n",
       "        vertical-align: middle;\n",
       "    }\n",
       "\n",
       "    .dataframe tbody tr th {\n",
       "        vertical-align: top;\n",
       "    }\n",
       "\n",
       "    .dataframe thead th {\n",
       "        text-align: right;\n",
       "    }\n",
       "</style>\n",
       "<table border=\"1\" class=\"dataframe\">\n",
       "  <thead>\n",
       "    <tr style=\"text-align: right;\">\n",
       "      <th></th>\n",
       "      <th>anchor_ratio</th>\n",
       "      <th>trans_range</th>\n",
       "      <th>node_density</th>\n",
       "      <th>iterations</th>\n",
       "    </tr>\n",
       "  </thead>\n",
       "  <tbody>\n",
       "    <tr>\n",
       "      <th>0</th>\n",
       "      <td>30</td>\n",
       "      <td>15</td>\n",
       "      <td>200</td>\n",
       "      <td>40</td>\n",
       "    </tr>\n",
       "    <tr>\n",
       "      <th>1</th>\n",
       "      <td>15</td>\n",
       "      <td>15</td>\n",
       "      <td>100</td>\n",
       "      <td>70</td>\n",
       "    </tr>\n",
       "    <tr>\n",
       "      <th>2</th>\n",
       "      <td>30</td>\n",
       "      <td>15</td>\n",
       "      <td>100</td>\n",
       "      <td>50</td>\n",
       "    </tr>\n",
       "    <tr>\n",
       "      <th>3</th>\n",
       "      <td>15</td>\n",
       "      <td>20</td>\n",
       "      <td>100</td>\n",
       "      <td>20</td>\n",
       "    </tr>\n",
       "    <tr>\n",
       "      <th>4</th>\n",
       "      <td>30</td>\n",
       "      <td>15</td>\n",
       "      <td>100</td>\n",
       "      <td>40</td>\n",
       "    </tr>\n",
       "  </tbody>\n",
       "</table>\n",
       "</div>"
      ],
      "text/plain": [
       "   anchor_ratio  trans_range  node_density  iterations\n",
       "0            30           15           200          40\n",
       "1            15           15           100          70\n",
       "2            30           15           100          50\n",
       "3            15           20           100          20\n",
       "4            30           15           100          40"
      ]
     },
     "execution_count": 11,
     "metadata": {},
     "output_type": "execute_result"
    }
   ],
   "source": [
    "x.head()"
   ]
  },
  {
   "cell_type": "markdown",
   "id": "bdfc960e",
   "metadata": {},
   "source": [
    "Dans le but de calculer la loss $SC_{ k1,k2,k3}$, il faut calculer les estimateurs $\\hat{\\eta}_{B}$ et $\\hat{\\eta}_{\\phi}$. Les fonctions suivantes sont faites dans le but de calculer respectivement $\\hat{\\theta}_{B}$, $\\hat{\\beta}_{B}$, $\\hat{\\sigma}^{2}_{B}$, $\\hat{\\theta}_{\\phi}$, $\\hat{\\beta}_{\\phi}$, $\\hat{\\sigma}^{2}_{\\phi}$ de l'algorithme. Pour le faire, nous calculons les distribution a posteriori de $\\eta | y$ et $\\eta |y,\\phi$ et nous déduisons l'espérance de ces distributions. Les fonctions ci-dessous sont faites après calcul à la main de ces distributions. Après calcul, nous obtenons: \n",
    "\n",
    "- $\\beta|y \\sim \\mathcal{N}(n\\bar{y}-\\theta_{k})1_{n}-\\beta_{0},\\sigma_{0}^{2}B_{0}x_{i}^{\\top}x_{i})$ où $1_{n}$ représente le vecteur constitué des 1, de même taille que $\\beta_{0}$\n",
    "-$\\sigma^{2}|y \\sim I\\Gamma(\\nu_{0}-\\frac{n}{2},\\sum_{i=1}^{n}(y_{i}-\\theta_{k}-x_{i}^{\\top}\\beta)^{2}+\\lambda_{0})$"
   ]
  },
  {
   "cell_type": "code",
   "execution_count": 42,
   "id": "ba8bba6a",
   "metadata": {},
   "outputs": [],
   "source": [
    "#loi aposteri theta_k sachant theta_k-1\n",
    "def loi_aposteriori_theta(x,y,theta,theta0,tau0,phi,c,i):\n",
    "    n=len(y)\n",
    "    model=LinearRegression()\n",
    "    model.fit(x,y)\n",
    "    # calcul de theta\n",
    "    Xbeta= model.predict(x)\n",
    "    law = np.exp(-1*(y[i]*np.ones(n-1)-np.array([theta[j] for j in range(len(y)) if j!=i])-np.array([Xbeta[j] for j in range(n) if j!=i]))**2).sum()*(1/len(phi))\n",
    "    + (c/c+len(phi))*np.random.normal(y[i]-theta0,tau0)\n",
    "    return law"
   ]
  },
  {
   "cell_type": "code",
   "execution_count": 43,
   "id": "14900fda",
   "metadata": {},
   "outputs": [],
   "source": [
    "def estim_bayes_theta(x,y,theta0,tau0,phi,c):\n",
    "    theta=np.zeros(len(y))\n",
    "    theta_init=theta0*np.ones(len(y))\n",
    "    for i in range(len(y)):\n",
    "        theta[i]=loi_aposteriori_theta(x,y,theta_init,theta0,tau0,phi,c,i)\n",
    "    return theta\n"
   ]
  },
  {
   "cell_type": "code",
   "execution_count": 26,
   "id": "81c06300",
   "metadata": {},
   "outputs": [],
   "source": [
    "theta = simulation_theta(x,y,theta0=0,tau0=1000,phi = np.array([range(len(y))]),c=12)"
   ]
  },
  {
   "cell_type": "code",
   "execution_count": 41,
   "id": "25ac6053",
   "metadata": {},
   "outputs": [
    {
     "data": {
      "image/png": "[encoded data removed]",
      "text/plain": [
       "<Figure size 648x396 with 1 Axes>"
      ]
     },
     "metadata": {},
     "output_type": "display_data"
    }
   ],
   "source": [
    "import seaborn as sns\n",
    "sns.set_theme()\n",
    "fig, axe =  plt.subplots(1, 1, figsize=(9, 5.5))\n",
    "axe.plot(list(data.index), theta,linestyle='',marker='o')\n",
    "axe.set_ylabel(\"value of $\\\\theta_j$\")\n",
    "axe.set_xlabel(\"index of sonser\")\n",
    "plt.savefig(\"theta.pgf\", format='pgf')\n",
    "plt.show()"
   ]
  },
  {
   "cell_type": "code",
   "execution_count": 44,
   "id": "d7dd5ea3",
   "metadata": {},
   "outputs": [],
   "source": [
    "# Cette fonction calcule l'estimateur bayésien de beta en se basant sur les loi précédentes\n",
    "def estim_bayes_beta(y,x,theta0,beta0,tau0,phi,c):\n",
    "   \n",
    "    beta_B = np.array([y[i]- estim_bayes_theta(y,x,theta0,tau0,phi,c)[i] for i in range(len(y))]).sum()*np.ones(len(y)) - beta0\n",
    "                                                                      \n",
    "    return beta_B"
   ]
  },
  {
   "cell_type": "code",
   "execution_count": null,
   "id": "e8e20cc5",
   "metadata": {},
   "outputs": [],
   "source": []
  },
  {
   "cell_type": "code",
   "execution_count": 45,
   "id": "54c5833e",
   "metadata": {},
   "outputs": [],
   "source": [
    "# Cette fonction calcule l'estimateur bayésien de beta en se basant sur les loi précédentes\n",
    "def estim_bayes_sigma(y,x,theta0,beta0,tau0,phi,c,lamda_0,nu_0):\n",
    "    n = len(y)\n",
    "    sigma_B = (np.array([y[i]- estim_bayes_theta(y,x,theta0,tau0,phi,c)[i]- estim_bayes_beta(y,x,theta0,beta0,tau0,phi,c)[i] for i in range(len(y))])).sum()/(nu_0-(n/2)-1)\n",
    "    return sigma_B\n",
    "    "
   ]
  },
  {
   "cell_type": "markdown",
   "id": "7a10dbe4",
   "metadata": {},
   "source": [
    "Les fonctions qui suivent ont pour but de calculer $\\hat{\\eta}_{\\phi}$. Sachant que $\\pi(\\eta |y,\\phi) = \\frac{\\pi(\\eta|y)}{\\pi(\\eta)}$ = $\\frac{\\pi(\\eta|y)}{\\prod_{i=1}^{k}(|S_{i}|-1)!}$, On déduit rapidement $\\hat{\\eta}_{\\phi}$. k=2 dans notre cas; car nous somme dans le cadre d'une classification où on ne peut avoir que deux clusters."
   ]
  },
  {
   "cell_type": "code",
   "execution_count": 46,
   "id": "fa452a76",
   "metadata": {},
   "outputs": [],
   "source": [
    "def prob_phi(phi,c):\n",
    "    prob_phi = 1\n",
    "    for i in range(len(phi)):\n",
    "        prob_phi = prob_phi*np.math.factorial(len(phi[i])-1)\n",
    "    return c*prob_phi"
   ]
  },
  {
   "cell_type": "code",
   "execution_count": 47,
   "id": "3d96217a",
   "metadata": {},
   "outputs": [],
   "source": [
    "def estim_phi_theta(y,x,theta0,beta0,tau0,phi,c):\n",
    "    \n",
    "    theta_phi = np.divide(estim_bayes_theta(x,y,theta0,tau0,phi,c),prob_phi(phi,c)*np.ones(len(y)))\n",
    "    \n",
    "    return theta_phi\n",
    "    "
   ]
  },
  {
   "cell_type": "code",
   "execution_count": 48,
   "id": "6e855e00",
   "metadata": {},
   "outputs": [],
   "source": [
    "def estim_phi_beta(y,x,theta0,beta0,tau0,phi,c):\n",
    "    \n",
    "    beta_phi = np.divide(estim_bayes_beta(y,x,theta0,beta0,tau0,phi,c),prob_phi(phi,c)*np.ones(len(y)))\n",
    "    \n",
    "    return beta_phi"
   ]
  },
  {
   "cell_type": "code",
   "execution_count": 49,
   "id": "cc93d927",
   "metadata": {},
   "outputs": [],
   "source": [
    "def estim_phi_sigma(y,x,theta0,beta0,tau0,lamda_0,nu_0,phi,c):\n",
    "    \n",
    "    sigma_phi = estim_bayes_sigma(y,x,theta0,beta0,tau0,lamda_0,nu_0)/prob_phi(phi,c)*np.ones(len(y))\n",
    "    \n",
    "    return sigma_phi"
   ]
  },
  {
   "cell_type": "markdown",
   "id": "29f656e1",
   "metadata": {},
   "source": [
    "Après avoir eu ces différentes observations, il est question dans la suite de calculer la loss $SC_{ k1,k2,k3}$ comma définie dans l'algorithme. "
   ]
  },
  {
   "cell_type": "code",
   "execution_count": 50,
   "id": "e20a5202",
   "metadata": {},
   "outputs": [],
   "source": [
    "def  loss_sc(y,x,theta0,beta0,tau0,lamda_0,nu_0,phi,c,k1,k2,k3):\n",
    "    n=y.shape[0]\n",
    "    \n",
    "    SC = (k1/n)*np.linalg.norm(estim_bayes_theta(x,y,theta0,tau0,phi,c)-estim_phi_theta(y,x,theta0,beta0,tau0,phi,c)) \n",
    "    + k2*(estim_bayes_sigma(y,x,theta0,beta0,tau0,phi,c,lamda_0,nu_0) - estim_phi_sigma(y,x,theta0,beta0,tau0,lamda_0,nu_0,phi,c))**2 \n",
    "    + (k3/2)*np.linalg.norm(estim_bayes_beta(y,x,theta0,beta0,tau0,phi,c)-estim_phi_beta(y,x,theta0,beta0,tau0,phi,c))\n",
    "    \n",
    "    return SC ,estim_bayes_theta(x,y,theta0,tau0,phi,c)\n",
    "    "
   ]
  },
  {
   "cell_type": "code",
   "execution_count": 52,
   "id": "8c20c951",
   "metadata": {},
   "outputs": [],
   "source": [
    "#loss_sc(y,x,theta0=0,beta0=0,tau0=1000,lamda_0=2,nu_0=1,phi = np.array(range(len(y))),c=12,k1=0.001,k2=0.098,k3=0.9)"
   ]
  },
  {
   "cell_type": "markdown",
   "id": "5602e9c4",
   "metadata": {},
   "source": [
    "Il est question dans la suite d'écrire l'algorithme qui permet de choisir la meilleure partition. Ici, nous indexons les individus de 1,...n comme dans le dataset. n représente le nombre d'individus du datset. On veut déterminer la meilleure partition à 2 éléments. L'algorithme s'arrêtera à un seuil $\\epsilon$ fixé.\n"
   ]
  },
  {
   "cell_type": "code",
   "execution_count": 32,
   "id": "87563266",
   "metadata": {},
   "outputs": [],
   "source": [
    "def clustring_2(y,x,theta0,beta0,tau0,lamda_0,nu_0,c,k1,k2,k3,epsilon):\n",
    "    n = len(y)\n",
    "    #initialisation \n",
    "    phi0=np.array([range(1,n+1)]) # initiation de la partition\n",
    "    SC0= loss_sc(y,x,theta0,beta0,tau0,lamda_0,nu_0,phi0,c,k1,k2,k3)\n",
    "    partition_result = phi0  # initialisation de la partition optimale\n",
    "    SC_result = SC0 # initialisation de la perte optimale\n",
    "    \n",
    "    # first step\n",
    "    \n",
    "    for i in range(1,n+1):\n",
    "        phi = np.array([[ x for x in phi0[0] if x!=i],[i]])\n",
    "        SC = loss_sc(y,x,theta0,beta0,tau0,lamda_0,nu_0,phi,c,k1,k2,k3)\n",
    "        if SC<= SC_result : \n",
    "            partition_result= phi\n",
    "            SC_result = SC\n",
    "   \n",
    "    # second step\n",
    "    \n",
    "    if SC_result!=SC0:  # pour éviter le cas où la partition optimale est la partition initiale\n",
    "        phi1 = partition_result\n",
    "        SC1 = SC_result\n",
    "        #j = 0\n",
    "        for j in range(len(phi1[0])):\n",
    "        \n",
    "            phi = np.array([[ x for x in phi1[0] if x!= phi1[0][j]],phi1[1]+[phi1[0][j]]])\n",
    "            SC = loss_sc(y,x,theta0,beta0,tau0,lamda_0,nu_0,phi,c,k1,k2,k3)\n",
    "            if abs(SC-SC1)>epsilon:\n",
    "                if SC<=SC1 :\n",
    "                    phi1 = phi\n",
    "                    SC1 = SC\n",
    "            else: \n",
    "                break\n",
    "        partition_result = phi1 \n",
    "        SC_result = SC1\n",
    "        \n",
    "    return SC_result,partition_result\n",
    "    "
   ]
  },
  {
   "cell_type": "code",
   "execution_count": 33,
   "id": "ffc3099e",
   "metadata": {},
   "outputs": [
    {
     "ename": "KeyboardInterrupt",
     "evalue": "",
     "output_type": "error",
     "traceback": [
      "\u001b[1;31m---------------------------------------------------------------------------\u001b[0m",
      "\u001b[1;31mKeyboardInterrupt\u001b[0m                         Traceback (most recent call last)",
      "\u001b[1;32m~\\AppData\\Local\\Temp/ipykernel_81780/1013541338.py\u001b[0m in \u001b[0;36m<module>\u001b[1;34m\u001b[0m\n\u001b[1;32m----> 1\u001b[1;33m \u001b[0mclustring_2\u001b[0m\u001b[1;33m(\u001b[0m\u001b[0my\u001b[0m\u001b[1;33m,\u001b[0m\u001b[0mx\u001b[0m\u001b[1;33m,\u001b[0m\u001b[0mtheta0\u001b[0m\u001b[1;33m=\u001b[0m\u001b[1;36m0\u001b[0m\u001b[1;33m,\u001b[0m\u001b[0mbeta0\u001b[0m\u001b[1;33m=\u001b[0m\u001b[1;36m0\u001b[0m\u001b[1;33m,\u001b[0m\u001b[0mtau0\u001b[0m\u001b[1;33m=\u001b[0m\u001b[1;36m1000\u001b[0m\u001b[1;33m,\u001b[0m\u001b[0mlamda_0\u001b[0m\u001b[1;33m=\u001b[0m\u001b[1;36m2\u001b[0m\u001b[1;33m,\u001b[0m\u001b[0mnu_0\u001b[0m\u001b[1;33m=\u001b[0m\u001b[1;36m1\u001b[0m\u001b[1;33m,\u001b[0m\u001b[0mc\u001b[0m\u001b[1;33m=\u001b[0m\u001b[1;36m12\u001b[0m\u001b[1;33m,\u001b[0m\u001b[0mk1\u001b[0m\u001b[1;33m=\u001b[0m\u001b[1;36m0.001\u001b[0m\u001b[1;33m,\u001b[0m\u001b[0mk2\u001b[0m\u001b[1;33m=\u001b[0m\u001b[1;36m0.098\u001b[0m\u001b[1;33m,\u001b[0m\u001b[0mk3\u001b[0m\u001b[1;33m=\u001b[0m\u001b[1;36m0.9\u001b[0m\u001b[1;33m,\u001b[0m\u001b[0mepsilon\u001b[0m\u001b[1;33m=\u001b[0m\u001b[1;36m10\u001b[0m\u001b[1;33m^\u001b[0m\u001b[1;33m-\u001b[0m\u001b[1;36m1\u001b[0m\u001b[1;33m)\u001b[0m\u001b[1;33m\u001b[0m\u001b[1;33m\u001b[0m\u001b[0m\n\u001b[0m",
      "\u001b[1;32m~\\AppData\\Local\\Temp/ipykernel_81780/644605564.py\u001b[0m in \u001b[0;36mclustring_2\u001b[1;34m(y, x, theta0, beta0, tau0, lamda_0, nu_0, c, k1, k2, k3, epsilon)\u001b[0m\n\u001b[0;32m      3\u001b[0m     \u001b[1;31m#initialisation\u001b[0m\u001b[1;33m\u001b[0m\u001b[1;33m\u001b[0m\u001b[0m\n\u001b[0;32m      4\u001b[0m     \u001b[0mphi0\u001b[0m\u001b[1;33m=\u001b[0m\u001b[0mnp\u001b[0m\u001b[1;33m.\u001b[0m\u001b[0marray\u001b[0m\u001b[1;33m(\u001b[0m\u001b[1;33m[\u001b[0m\u001b[0mrange\u001b[0m\u001b[1;33m(\u001b[0m\u001b[1;36m1\u001b[0m\u001b[1;33m,\u001b[0m\u001b[0mn\u001b[0m\u001b[1;33m+\u001b[0m\u001b[1;36m1\u001b[0m\u001b[1;33m)\u001b[0m\u001b[1;33m]\u001b[0m\u001b[1;33m)\u001b[0m \u001b[1;31m# initiation de la partition\u001b[0m\u001b[1;33m\u001b[0m\u001b[1;33m\u001b[0m\u001b[0m\n\u001b[1;32m----> 5\u001b[1;33m     \u001b[0mSC0\u001b[0m\u001b[1;33m=\u001b[0m \u001b[0mloss_sc\u001b[0m\u001b[1;33m(\u001b[0m\u001b[0my\u001b[0m\u001b[1;33m,\u001b[0m\u001b[0mx\u001b[0m\u001b[1;33m,\u001b[0m\u001b[0mtheta0\u001b[0m\u001b[1;33m,\u001b[0m\u001b[0mbeta0\u001b[0m\u001b[1;33m,\u001b[0m\u001b[0mtau0\u001b[0m\u001b[1;33m,\u001b[0m\u001b[0mlamda_0\u001b[0m\u001b[1;33m,\u001b[0m\u001b[0mnu_0\u001b[0m\u001b[1;33m,\u001b[0m\u001b[0mphi0\u001b[0m\u001b[1;33m,\u001b[0m\u001b[0mc\u001b[0m\u001b[1;33m,\u001b[0m\u001b[0mk1\u001b[0m\u001b[1;33m,\u001b[0m\u001b[0mk2\u001b[0m\u001b[1;33m,\u001b[0m\u001b[0mk3\u001b[0m\u001b[1;33m)\u001b[0m\u001b[1;33m\u001b[0m\u001b[1;33m\u001b[0m\u001b[0m\n\u001b[0m\u001b[0;32m      6\u001b[0m     \u001b[0mpartition_result\u001b[0m \u001b[1;33m=\u001b[0m \u001b[0mphi0\u001b[0m  \u001b[1;31m# initialisation de la partition optimale\u001b[0m\u001b[1;33m\u001b[0m\u001b[1;33m\u001b[0m\u001b[0m\n\u001b[0;32m      7\u001b[0m     \u001b[0mSC_result\u001b[0m \u001b[1;33m=\u001b[0m \u001b[0mSC0\u001b[0m \u001b[1;31m# initialisation de la perte optimale\u001b[0m\u001b[1;33m\u001b[0m\u001b[1;33m\u001b[0m\u001b[0m\n",
      "\u001b[1;32m~\\AppData\\Local\\Temp/ipykernel_81780/1981167653.py\u001b[0m in \u001b[0;36mloss_sc\u001b[1;34m(y, x, theta0, beta0, tau0, lamda_0, nu_0, phi, c, k1, k2, k3)\u001b[0m\n\u001b[0;32m      2\u001b[0m     \u001b[0mn\u001b[0m\u001b[1;33m=\u001b[0m\u001b[0my\u001b[0m\u001b[1;33m.\u001b[0m\u001b[0mshape\u001b[0m\u001b[1;33m[\u001b[0m\u001b[1;36m0\u001b[0m\u001b[1;33m]\u001b[0m\u001b[1;33m\u001b[0m\u001b[1;33m\u001b[0m\u001b[0m\n\u001b[0;32m      3\u001b[0m \u001b[1;33m\u001b[0m\u001b[0m\n\u001b[1;32m----> 4\u001b[1;33m     \u001b[0mSC\u001b[0m \u001b[1;33m=\u001b[0m \u001b[1;33m(\u001b[0m\u001b[0mk1\u001b[0m\u001b[1;33m/\u001b[0m\u001b[0mn\u001b[0m\u001b[1;33m)\u001b[0m\u001b[1;33m*\u001b[0m\u001b[0mnp\u001b[0m\u001b[1;33m.\u001b[0m\u001b[0mlinalg\u001b[0m\u001b[1;33m.\u001b[0m\u001b[0mnorm\u001b[0m\u001b[1;33m(\u001b[0m\u001b[0mestim_bayes_theta\u001b[0m\u001b[1;33m(\u001b[0m\u001b[0mx\u001b[0m\u001b[1;33m,\u001b[0m\u001b[0my\u001b[0m\u001b[1;33m,\u001b[0m\u001b[0mtheta0\u001b[0m\u001b[1;33m,\u001b[0m\u001b[0mtau0\u001b[0m\u001b[1;33m,\u001b[0m\u001b[0mphi\u001b[0m\u001b[1;33m,\u001b[0m\u001b[0mc\u001b[0m\u001b[1;33m)\u001b[0m\u001b[1;33m-\u001b[0m\u001b[0mestim_phi_theta\u001b[0m\u001b[1;33m(\u001b[0m\u001b[0my\u001b[0m\u001b[1;33m,\u001b[0m\u001b[0mx\u001b[0m\u001b[1;33m,\u001b[0m\u001b[0mtheta0\u001b[0m\u001b[1;33m,\u001b[0m\u001b[0mbeta0\u001b[0m\u001b[1;33m,\u001b[0m\u001b[0mtau0\u001b[0m\u001b[1;33m,\u001b[0m\u001b[0mphi\u001b[0m\u001b[1;33m,\u001b[0m\u001b[0mc\u001b[0m\u001b[1;33m)\u001b[0m\u001b[1;33m)\u001b[0m\u001b[1;33m\u001b[0m\u001b[1;33m\u001b[0m\u001b[0m\n\u001b[0m\u001b[0;32m      5\u001b[0m     \u001b[1;33m+\u001b[0m \u001b[0mk2\u001b[0m\u001b[1;33m*\u001b[0m\u001b[1;33m(\u001b[0m\u001b[0mestim_bayes_sigma\u001b[0m\u001b[1;33m(\u001b[0m\u001b[0my\u001b[0m\u001b[1;33m,\u001b[0m\u001b[0mx\u001b[0m\u001b[1;33m,\u001b[0m\u001b[0mtheta0\u001b[0m\u001b[1;33m,\u001b[0m\u001b[0mbeta0\u001b[0m\u001b[1;33m,\u001b[0m\u001b[0mtau0\u001b[0m\u001b[1;33m,\u001b[0m\u001b[0mlamda_0\u001b[0m\u001b[1;33m,\u001b[0m\u001b[0mnu_0\u001b[0m\u001b[1;33m)\u001b[0m \u001b[1;33m-\u001b[0m \u001b[0mestim_phi_sigma\u001b[0m\u001b[1;33m(\u001b[0m\u001b[0my\u001b[0m\u001b[1;33m,\u001b[0m\u001b[0mx\u001b[0m\u001b[1;33m,\u001b[0m\u001b[0mtheta0\u001b[0m\u001b[1;33m,\u001b[0m\u001b[0mbeta0\u001b[0m\u001b[1;33m,\u001b[0m\u001b[0mtau0\u001b[0m\u001b[1;33m,\u001b[0m\u001b[0mlamda_0\u001b[0m\u001b[1;33m,\u001b[0m\u001b[0mnu_0\u001b[0m\u001b[1;33m,\u001b[0m\u001b[0mphi\u001b[0m\u001b[1;33m,\u001b[0m\u001b[0mc\u001b[0m\u001b[1;33m)\u001b[0m\u001b[1;33m)\u001b[0m\u001b[1;33m**\u001b[0m\u001b[1;36m2\u001b[0m\u001b[1;33m\u001b[0m\u001b[1;33m\u001b[0m\u001b[0m\n\u001b[0;32m      6\u001b[0m     \u001b[1;33m+\u001b[0m \u001b[1;33m(\u001b[0m\u001b[0mk3\u001b[0m\u001b[1;33m/\u001b[0m\u001b[1;36m2\u001b[0m\u001b[1;33m)\u001b[0m\u001b[1;33m*\u001b[0m\u001b[0mnp\u001b[0m\u001b[1;33m.\u001b[0m\u001b[0mlinalg\u001b[0m\u001b[1;33m.\u001b[0m\u001b[0mnorm\u001b[0m\u001b[1;33m(\u001b[0m\u001b[0mestim_bayes_beta\u001b[0m\u001b[1;33m(\u001b[0m\u001b[0my\u001b[0m\u001b[1;33m,\u001b[0m\u001b[0mx\u001b[0m\u001b[1;33m,\u001b[0m\u001b[0mtheta0\u001b[0m\u001b[1;33m,\u001b[0m\u001b[0mbeta0\u001b[0m\u001b[1;33m,\u001b[0m\u001b[0mtau0\u001b[0m\u001b[1;33m,\u001b[0m\u001b[0mphi\u001b[0m\u001b[1;33m,\u001b[0m\u001b[0mc\u001b[0m\u001b[1;33m)\u001b[0m\u001b[1;33m-\u001b[0m\u001b[0mestim_phi_beta\u001b[0m\u001b[1;33m(\u001b[0m\u001b[0my\u001b[0m\u001b[1;33m,\u001b[0m\u001b[0mx\u001b[0m\u001b[1;33m,\u001b[0m\u001b[0mtheta0\u001b[0m\u001b[1;33m,\u001b[0m\u001b[0mbeta0\u001b[0m\u001b[1;33m,\u001b[0m\u001b[0mtau0\u001b[0m\u001b[1;33m,\u001b[0m\u001b[0mphi\u001b[0m\u001b[1;33m,\u001b[0m\u001b[0mc\u001b[0m\u001b[1;33m)\u001b[0m\u001b[1;33m)\u001b[0m\u001b[1;33m\u001b[0m\u001b[1;33m\u001b[0m\u001b[0m\n",
      "\u001b[1;32m~\\AppData\\Local\\Temp/ipykernel_81780/83614600.py\u001b[0m in \u001b[0;36mestim_phi_theta\u001b[1;34m(y, x, theta0, beta0, tau0, phi, c)\u001b[0m\n\u001b[0;32m      1\u001b[0m \u001b[1;32mdef\u001b[0m \u001b[0mestim_phi_theta\u001b[0m\u001b[1;33m(\u001b[0m\u001b[0my\u001b[0m\u001b[1;33m,\u001b[0m\u001b[0mx\u001b[0m\u001b[1;33m,\u001b[0m\u001b[0mtheta0\u001b[0m\u001b[1;33m,\u001b[0m\u001b[0mbeta0\u001b[0m\u001b[1;33m,\u001b[0m\u001b[0mtau0\u001b[0m\u001b[1;33m,\u001b[0m\u001b[0mphi\u001b[0m\u001b[1;33m,\u001b[0m\u001b[0mc\u001b[0m\u001b[1;33m)\u001b[0m\u001b[1;33m:\u001b[0m\u001b[1;33m\u001b[0m\u001b[1;33m\u001b[0m\u001b[0m\n\u001b[0;32m      2\u001b[0m \u001b[1;33m\u001b[0m\u001b[0m\n\u001b[1;32m----> 3\u001b[1;33m     \u001b[0mtheta_phi\u001b[0m \u001b[1;33m=\u001b[0m \u001b[0mnp\u001b[0m\u001b[1;33m.\u001b[0m\u001b[0mdivide\u001b[0m\u001b[1;33m(\u001b[0m\u001b[0mestim_bayes_theta\u001b[0m\u001b[1;33m(\u001b[0m\u001b[0mx\u001b[0m\u001b[1;33m,\u001b[0m\u001b[0my\u001b[0m\u001b[1;33m,\u001b[0m\u001b[0mtheta0\u001b[0m\u001b[1;33m,\u001b[0m\u001b[0mtau0\u001b[0m\u001b[1;33m,\u001b[0m\u001b[0mphi\u001b[0m\u001b[1;33m,\u001b[0m\u001b[0mc\u001b[0m\u001b[1;33m)\u001b[0m\u001b[1;33m,\u001b[0m\u001b[0mprob_phi\u001b[0m\u001b[1;33m(\u001b[0m\u001b[0mphi\u001b[0m\u001b[1;33m,\u001b[0m\u001b[0mc\u001b[0m\u001b[1;33m)\u001b[0m\u001b[1;33m*\u001b[0m\u001b[0mnp\u001b[0m\u001b[1;33m.\u001b[0m\u001b[0mones\u001b[0m\u001b[1;33m(\u001b[0m\u001b[0mlen\u001b[0m\u001b[1;33m(\u001b[0m\u001b[0my\u001b[0m\u001b[1;33m)\u001b[0m\u001b[1;33m)\u001b[0m\u001b[1;33m)\u001b[0m\u001b[1;33m\u001b[0m\u001b[1;33m\u001b[0m\u001b[0m\n\u001b[0m\u001b[0;32m      4\u001b[0m \u001b[1;33m\u001b[0m\u001b[0m\n\u001b[0;32m      5\u001b[0m     \u001b[1;32mreturn\u001b[0m \u001b[0mtheta_phi\u001b[0m\u001b[1;33m\u001b[0m\u001b[1;33m\u001b[0m\u001b[0m\n",
      "\u001b[1;32m~\\AppData\\Local\\Temp/ipykernel_81780/1406490092.py\u001b[0m in \u001b[0;36mestim_bayes_theta\u001b[1;34m(x, y, theta0, tau0, phi, c)\u001b[0m\n\u001b[0;32m      1\u001b[0m \u001b[1;32mdef\u001b[0m \u001b[0mestim_bayes_theta\u001b[0m\u001b[1;33m(\u001b[0m\u001b[0mx\u001b[0m\u001b[1;33m,\u001b[0m\u001b[0my\u001b[0m\u001b[1;33m,\u001b[0m\u001b[0mtheta0\u001b[0m\u001b[1;33m,\u001b[0m\u001b[0mtau0\u001b[0m\u001b[1;33m,\u001b[0m\u001b[0mphi\u001b[0m\u001b[1;33m,\u001b[0m\u001b[0mc\u001b[0m\u001b[1;33m)\u001b[0m\u001b[1;33m:\u001b[0m\u001b[1;33m\u001b[0m\u001b[1;33m\u001b[0m\u001b[0m\n\u001b[0;32m      2\u001b[0m \u001b[1;33m\u001b[0m\u001b[0m\n\u001b[1;32m----> 3\u001b[1;33m     \u001b[0mtheta_B\u001b[0m \u001b[1;33m=\u001b[0m \u001b[0mnp\u001b[0m\u001b[1;33m.\u001b[0m\u001b[0marray\u001b[0m\u001b[1;33m(\u001b[0m\u001b[1;33m[\u001b[0m\u001b[0mnp\u001b[0m\u001b[1;33m.\u001b[0m\u001b[0mmean\u001b[0m\u001b[1;33m(\u001b[0m\u001b[0mnp\u001b[0m\u001b[1;33m.\u001b[0m\u001b[0marray\u001b[0m\u001b[1;33m(\u001b[0m\u001b[1;33m[\u001b[0m\u001b[0msimulation_theta\u001b[0m\u001b[1;33m(\u001b[0m\u001b[0mx\u001b[0m\u001b[1;33m,\u001b[0m\u001b[0my\u001b[0m\u001b[1;33m,\u001b[0m\u001b[0mtheta0\u001b[0m\u001b[1;33m,\u001b[0m\u001b[0mtau0\u001b[0m\u001b[1;33m,\u001b[0m\u001b[0mphi\u001b[0m\u001b[1;33m,\u001b[0m\u001b[0mc\u001b[0m\u001b[1;33m)\u001b[0m\u001b[1;33m[\u001b[0m\u001b[0mi\u001b[0m\u001b[1;33m]\u001b[0m \u001b[1;32mfor\u001b[0m \u001b[0mi\u001b[0m \u001b[1;32min\u001b[0m \u001b[0mrange\u001b[0m\u001b[1;33m(\u001b[0m\u001b[1;36m20\u001b[0m\u001b[1;33m)\u001b[0m\u001b[1;33m]\u001b[0m\u001b[1;33m)\u001b[0m\u001b[1;33m)\u001b[0m \u001b[1;32mfor\u001b[0m \u001b[0mi\u001b[0m \u001b[1;32min\u001b[0m \u001b[0mrange\u001b[0m\u001b[1;33m(\u001b[0m\u001b[0mlen\u001b[0m\u001b[1;33m(\u001b[0m\u001b[0my\u001b[0m\u001b[1;33m)\u001b[0m\u001b[1;33m)\u001b[0m\u001b[1;33m]\u001b[0m\u001b[1;33m)\u001b[0m\u001b[1;33m\u001b[0m\u001b[1;33m\u001b[0m\u001b[0m\n\u001b[0m\u001b[0;32m      4\u001b[0m \u001b[1;33m\u001b[0m\u001b[0m\n\u001b[0;32m      5\u001b[0m     \u001b[1;32mreturn\u001b[0m \u001b[0mtheta_B\u001b[0m\u001b[1;33m\u001b[0m\u001b[1;33m\u001b[0m\u001b[0m\n",
      "\u001b[1;32m~\\AppData\\Local\\Temp/ipykernel_81780/1406490092.py\u001b[0m in \u001b[0;36m<listcomp>\u001b[1;34m(.0)\u001b[0m\n\u001b[0;32m      1\u001b[0m \u001b[1;32mdef\u001b[0m \u001b[0mestim_bayes_theta\u001b[0m\u001b[1;33m(\u001b[0m\u001b[0mx\u001b[0m\u001b[1;33m,\u001b[0m\u001b[0my\u001b[0m\u001b[1;33m,\u001b[0m\u001b[0mtheta0\u001b[0m\u001b[1;33m,\u001b[0m\u001b[0mtau0\u001b[0m\u001b[1;33m,\u001b[0m\u001b[0mphi\u001b[0m\u001b[1;33m,\u001b[0m\u001b[0mc\u001b[0m\u001b[1;33m)\u001b[0m\u001b[1;33m:\u001b[0m\u001b[1;33m\u001b[0m\u001b[1;33m\u001b[0m\u001b[0m\n\u001b[0;32m      2\u001b[0m \u001b[1;33m\u001b[0m\u001b[0m\n\u001b[1;32m----> 3\u001b[1;33m     \u001b[0mtheta_B\u001b[0m \u001b[1;33m=\u001b[0m \u001b[0mnp\u001b[0m\u001b[1;33m.\u001b[0m\u001b[0marray\u001b[0m\u001b[1;33m(\u001b[0m\u001b[1;33m[\u001b[0m\u001b[0mnp\u001b[0m\u001b[1;33m.\u001b[0m\u001b[0mmean\u001b[0m\u001b[1;33m(\u001b[0m\u001b[0mnp\u001b[0m\u001b[1;33m.\u001b[0m\u001b[0marray\u001b[0m\u001b[1;33m(\u001b[0m\u001b[1;33m[\u001b[0m\u001b[0msimulation_theta\u001b[0m\u001b[1;33m(\u001b[0m\u001b[0mx\u001b[0m\u001b[1;33m,\u001b[0m\u001b[0my\u001b[0m\u001b[1;33m,\u001b[0m\u001b[0mtheta0\u001b[0m\u001b[1;33m,\u001b[0m\u001b[0mtau0\u001b[0m\u001b[1;33m,\u001b[0m\u001b[0mphi\u001b[0m\u001b[1;33m,\u001b[0m\u001b[0mc\u001b[0m\u001b[1;33m)\u001b[0m\u001b[1;33m[\u001b[0m\u001b[0mi\u001b[0m\u001b[1;33m]\u001b[0m \u001b[1;32mfor\u001b[0m \u001b[0mi\u001b[0m \u001b[1;32min\u001b[0m \u001b[0mrange\u001b[0m\u001b[1;33m(\u001b[0m\u001b[1;36m20\u001b[0m\u001b[1;33m)\u001b[0m\u001b[1;33m]\u001b[0m\u001b[1;33m)\u001b[0m\u001b[1;33m)\u001b[0m \u001b[1;32mfor\u001b[0m \u001b[0mi\u001b[0m \u001b[1;32min\u001b[0m \u001b[0mrange\u001b[0m\u001b[1;33m(\u001b[0m\u001b[0mlen\u001b[0m\u001b[1;33m(\u001b[0m\u001b[0my\u001b[0m\u001b[1;33m)\u001b[0m\u001b[1;33m)\u001b[0m\u001b[1;33m]\u001b[0m\u001b[1;33m)\u001b[0m\u001b[1;33m\u001b[0m\u001b[1;33m\u001b[0m\u001b[0m\n\u001b[0m\u001b[0;32m      4\u001b[0m \u001b[1;33m\u001b[0m\u001b[0m\n\u001b[0;32m      5\u001b[0m     \u001b[1;32mreturn\u001b[0m \u001b[0mtheta_B\u001b[0m\u001b[1;33m\u001b[0m\u001b[1;33m\u001b[0m\u001b[0m\n",
      "\u001b[1;32m~\\AppData\\Local\\Temp/ipykernel_81780/1406490092.py\u001b[0m in \u001b[0;36m<listcomp>\u001b[1;34m(.0)\u001b[0m\n\u001b[0;32m      1\u001b[0m \u001b[1;32mdef\u001b[0m \u001b[0mestim_bayes_theta\u001b[0m\u001b[1;33m(\u001b[0m\u001b[0mx\u001b[0m\u001b[1;33m,\u001b[0m\u001b[0my\u001b[0m\u001b[1;33m,\u001b[0m\u001b[0mtheta0\u001b[0m\u001b[1;33m,\u001b[0m\u001b[0mtau0\u001b[0m\u001b[1;33m,\u001b[0m\u001b[0mphi\u001b[0m\u001b[1;33m,\u001b[0m\u001b[0mc\u001b[0m\u001b[1;33m)\u001b[0m\u001b[1;33m:\u001b[0m\u001b[1;33m\u001b[0m\u001b[1;33m\u001b[0m\u001b[0m\n\u001b[0;32m      2\u001b[0m \u001b[1;33m\u001b[0m\u001b[0m\n\u001b[1;32m----> 3\u001b[1;33m     \u001b[0mtheta_B\u001b[0m \u001b[1;33m=\u001b[0m \u001b[0mnp\u001b[0m\u001b[1;33m.\u001b[0m\u001b[0marray\u001b[0m\u001b[1;33m(\u001b[0m\u001b[1;33m[\u001b[0m\u001b[0mnp\u001b[0m\u001b[1;33m.\u001b[0m\u001b[0mmean\u001b[0m\u001b[1;33m(\u001b[0m\u001b[0mnp\u001b[0m\u001b[1;33m.\u001b[0m\u001b[0marray\u001b[0m\u001b[1;33m(\u001b[0m\u001b[1;33m[\u001b[0m\u001b[0msimulation_theta\u001b[0m\u001b[1;33m(\u001b[0m\u001b[0mx\u001b[0m\u001b[1;33m,\u001b[0m\u001b[0my\u001b[0m\u001b[1;33m,\u001b[0m\u001b[0mtheta0\u001b[0m\u001b[1;33m,\u001b[0m\u001b[0mtau0\u001b[0m\u001b[1;33m,\u001b[0m\u001b[0mphi\u001b[0m\u001b[1;33m,\u001b[0m\u001b[0mc\u001b[0m\u001b[1;33m)\u001b[0m\u001b[1;33m[\u001b[0m\u001b[0mi\u001b[0m\u001b[1;33m]\u001b[0m \u001b[1;32mfor\u001b[0m \u001b[0mi\u001b[0m \u001b[1;32min\u001b[0m \u001b[0mrange\u001b[0m\u001b[1;33m(\u001b[0m\u001b[1;36m20\u001b[0m\u001b[1;33m)\u001b[0m\u001b[1;33m]\u001b[0m\u001b[1;33m)\u001b[0m\u001b[1;33m)\u001b[0m \u001b[1;32mfor\u001b[0m \u001b[0mi\u001b[0m \u001b[1;32min\u001b[0m \u001b[0mrange\u001b[0m\u001b[1;33m(\u001b[0m\u001b[0mlen\u001b[0m\u001b[1;33m(\u001b[0m\u001b[0my\u001b[0m\u001b[1;33m)\u001b[0m\u001b[1;33m)\u001b[0m\u001b[1;33m]\u001b[0m\u001b[1;33m)\u001b[0m\u001b[1;33m\u001b[0m\u001b[1;33m\u001b[0m\u001b[0m\n\u001b[0m\u001b[0;32m      4\u001b[0m \u001b[1;33m\u001b[0m\u001b[0m\n\u001b[0;32m      5\u001b[0m     \u001b[1;32mreturn\u001b[0m \u001b[0mtheta_B\u001b[0m\u001b[1;33m\u001b[0m\u001b[1;33m\u001b[0m\u001b[0m\n",
      "\u001b[1;32m~\\AppData\\Local\\Temp/ipykernel_81780/3518489715.py\u001b[0m in \u001b[0;36msimulation_theta\u001b[1;34m(x, y, theta0, tau0, phi, c)\u001b[0m\n\u001b[0;32m      3\u001b[0m     \u001b[0mtheta_init\u001b[0m\u001b[1;33m=\u001b[0m\u001b[0mtheta0\u001b[0m\u001b[1;33m*\u001b[0m\u001b[0mnp\u001b[0m\u001b[1;33m.\u001b[0m\u001b[0mones\u001b[0m\u001b[1;33m(\u001b[0m\u001b[0mlen\u001b[0m\u001b[1;33m(\u001b[0m\u001b[0my\u001b[0m\u001b[1;33m)\u001b[0m\u001b[1;33m)\u001b[0m\u001b[1;33m\u001b[0m\u001b[1;33m\u001b[0m\u001b[0m\n\u001b[0;32m      4\u001b[0m     \u001b[1;32mfor\u001b[0m \u001b[0mi\u001b[0m \u001b[1;32min\u001b[0m \u001b[0mrange\u001b[0m\u001b[1;33m(\u001b[0m\u001b[0mlen\u001b[0m\u001b[1;33m(\u001b[0m\u001b[0my\u001b[0m\u001b[1;33m)\u001b[0m\u001b[1;33m)\u001b[0m\u001b[1;33m:\u001b[0m\u001b[1;33m\u001b[0m\u001b[1;33m\u001b[0m\u001b[0m\n\u001b[1;32m----> 5\u001b[1;33m         \u001b[0mtheta\u001b[0m\u001b[1;33m[\u001b[0m\u001b[0mi\u001b[0m\u001b[1;33m]\u001b[0m\u001b[1;33m=\u001b[0m\u001b[0mloi_aposteriori_theta\u001b[0m\u001b[1;33m(\u001b[0m\u001b[0mx\u001b[0m\u001b[1;33m,\u001b[0m\u001b[0my\u001b[0m\u001b[1;33m,\u001b[0m\u001b[0mtheta_init\u001b[0m\u001b[1;33m,\u001b[0m\u001b[0mtheta0\u001b[0m\u001b[1;33m,\u001b[0m\u001b[0mtau0\u001b[0m\u001b[1;33m,\u001b[0m\u001b[0mphi\u001b[0m\u001b[1;33m,\u001b[0m\u001b[0mc\u001b[0m\u001b[1;33m,\u001b[0m\u001b[0mi\u001b[0m\u001b[1;33m)\u001b[0m\u001b[1;33m\u001b[0m\u001b[1;33m\u001b[0m\u001b[0m\n\u001b[0m\u001b[0;32m      6\u001b[0m     \u001b[1;32mreturn\u001b[0m \u001b[0mtheta\u001b[0m\u001b[1;33m\u001b[0m\u001b[1;33m\u001b[0m\u001b[0m\n",
      "\u001b[1;32m~\\AppData\\Local\\Temp/ipykernel_81780/3860738076.py\u001b[0m in \u001b[0;36mloi_aposteriori_theta\u001b[1;34m(x, y, theta, theta0, tau0, phi, c, i)\u001b[0m\n\u001b[0;32m      5\u001b[0m     \u001b[0mmodel\u001b[0m\u001b[1;33m.\u001b[0m\u001b[0mfit\u001b[0m\u001b[1;33m(\u001b[0m\u001b[0mx\u001b[0m\u001b[1;33m,\u001b[0m\u001b[0my\u001b[0m\u001b[1;33m)\u001b[0m\u001b[1;33m\u001b[0m\u001b[1;33m\u001b[0m\u001b[0m\n\u001b[0;32m      6\u001b[0m     \u001b[1;31m# calcul de theta\u001b[0m\u001b[1;33m\u001b[0m\u001b[1;33m\u001b[0m\u001b[0m\n\u001b[1;32m----> 7\u001b[1;33m     \u001b[0mXbeta\u001b[0m\u001b[1;33m=\u001b[0m \u001b[0mmodel\u001b[0m\u001b[1;33m.\u001b[0m\u001b[0mpredict\u001b[0m\u001b[1;33m(\u001b[0m\u001b[0mx\u001b[0m\u001b[1;33m)\u001b[0m\u001b[1;33m\u001b[0m\u001b[1;33m\u001b[0m\u001b[0m\n\u001b[0m\u001b[0;32m      8\u001b[0m     \u001b[0mlaw\u001b[0m \u001b[1;33m=\u001b[0m \u001b[0mnp\u001b[0m\u001b[1;33m.\u001b[0m\u001b[0mexp\u001b[0m\u001b[1;33m(\u001b[0m\u001b[1;33m-\u001b[0m\u001b[1;36m1\u001b[0m\u001b[1;33m*\u001b[0m\u001b[1;33m(\u001b[0m\u001b[0my\u001b[0m\u001b[1;33m[\u001b[0m\u001b[0mi\u001b[0m\u001b[1;33m]\u001b[0m\u001b[1;33m*\u001b[0m\u001b[0mnp\u001b[0m\u001b[1;33m.\u001b[0m\u001b[0mones\u001b[0m\u001b[1;33m(\u001b[0m\u001b[0mn\u001b[0m\u001b[1;33m-\u001b[0m\u001b[1;36m1\u001b[0m\u001b[1;33m)\u001b[0m\u001b[1;33m-\u001b[0m\u001b[0mnp\u001b[0m\u001b[1;33m.\u001b[0m\u001b[0marray\u001b[0m\u001b[1;33m(\u001b[0m\u001b[1;33m[\u001b[0m\u001b[0mtheta\u001b[0m\u001b[1;33m[\u001b[0m\u001b[0mj\u001b[0m\u001b[1;33m]\u001b[0m \u001b[1;32mfor\u001b[0m \u001b[0mj\u001b[0m \u001b[1;32min\u001b[0m \u001b[0mrange\u001b[0m\u001b[1;33m(\u001b[0m\u001b[0mlen\u001b[0m\u001b[1;33m(\u001b[0m\u001b[0my\u001b[0m\u001b[1;33m)\u001b[0m\u001b[1;33m)\u001b[0m \u001b[1;32mif\u001b[0m \u001b[0mj\u001b[0m\u001b[1;33m!=\u001b[0m\u001b[0mi\u001b[0m\u001b[1;33m]\u001b[0m\u001b[1;33m)\u001b[0m\u001b[1;33m-\u001b[0m\u001b[0mnp\u001b[0m\u001b[1;33m.\u001b[0m\u001b[0marray\u001b[0m\u001b[1;33m(\u001b[0m\u001b[1;33m[\u001b[0m\u001b[0mXbeta\u001b[0m\u001b[1;33m[\u001b[0m\u001b[0mj\u001b[0m\u001b[1;33m]\u001b[0m \u001b[1;32mfor\u001b[0m \u001b[0mj\u001b[0m \u001b[1;32min\u001b[0m \u001b[0mrange\u001b[0m\u001b[1;33m(\u001b[0m\u001b[0mn\u001b[0m\u001b[1;33m)\u001b[0m \u001b[1;32mif\u001b[0m \u001b[0mj\u001b[0m\u001b[1;33m!=\u001b[0m\u001b[0mi\u001b[0m\u001b[1;33m]\u001b[0m\u001b[1;33m)\u001b[0m\u001b[1;33m)\u001b[0m\u001b[1;33m**\u001b[0m\u001b[1;36m2\u001b[0m\u001b[1;33m)\u001b[0m\u001b[1;33m.\u001b[0m\u001b[0msum\u001b[0m\u001b[1;33m(\u001b[0m\u001b[1;33m)\u001b[0m\u001b[1;33m*\u001b[0m\u001b[1;33m(\u001b[0m\u001b[1;36m1\u001b[0m\u001b[1;33m/\u001b[0m\u001b[0mlen\u001b[0m\u001b[1;33m(\u001b[0m\u001b[0mphi\u001b[0m\u001b[1;33m)\u001b[0m\u001b[1;33m)\u001b[0m\u001b[1;33m\u001b[0m\u001b[1;33m\u001b[0m\u001b[0m\n\u001b[0;32m      9\u001b[0m     \u001b[1;33m+\u001b[0m \u001b[1;33m(\u001b[0m\u001b[0mc\u001b[0m\u001b[1;33m/\u001b[0m\u001b[0mc\u001b[0m\u001b[1;33m+\u001b[0m\u001b[0mlen\u001b[0m\u001b[1;33m(\u001b[0m\u001b[0mphi\u001b[0m\u001b[1;33m)\u001b[0m\u001b[1;33m)\u001b[0m\u001b[1;33m*\u001b[0m\u001b[0mnp\u001b[0m\u001b[1;33m.\u001b[0m\u001b[0mrandom\u001b[0m\u001b[1;33m.\u001b[0m\u001b[0mnormal\u001b[0m\u001b[1;33m(\u001b[0m\u001b[0my\u001b[0m\u001b[1;33m[\u001b[0m\u001b[0mi\u001b[0m\u001b[1;33m]\u001b[0m\u001b[1;33m-\u001b[0m\u001b[0mtheta0\u001b[0m\u001b[1;33m,\u001b[0m\u001b[0mtau0\u001b[0m\u001b[1;33m)\u001b[0m\u001b[1;33m\u001b[0m\u001b[1;33m\u001b[0m\u001b[0m\n",
      "\u001b[1;32mC:\\annaconda\\lib\\site-packages\\sklearn\\linear_model\\_base.py\u001b[0m in \u001b[0;36mpredict\u001b[1;34m(self, X)\u001b[0m\n\u001b[0;32m    236\u001b[0m             \u001b[0mReturns\u001b[0m \u001b[0mpredicted\u001b[0m \u001b[0mvalues\u001b[0m\u001b[1;33m.\u001b[0m\u001b[1;33m\u001b[0m\u001b[1;33m\u001b[0m\u001b[0m\n\u001b[0;32m    237\u001b[0m         \"\"\"\n\u001b[1;32m--> 238\u001b[1;33m         \u001b[1;32mreturn\u001b[0m \u001b[0mself\u001b[0m\u001b[1;33m.\u001b[0m\u001b[0m_decision_function\u001b[0m\u001b[1;33m(\u001b[0m\u001b[0mX\u001b[0m\u001b[1;33m)\u001b[0m\u001b[1;33m\u001b[0m\u001b[1;33m\u001b[0m\u001b[0m\n\u001b[0m\u001b[0;32m    239\u001b[0m \u001b[1;33m\u001b[0m\u001b[0m\n\u001b[0;32m    240\u001b[0m     \u001b[0m_preprocess_data\u001b[0m \u001b[1;33m=\u001b[0m \u001b[0mstaticmethod\u001b[0m\u001b[1;33m(\u001b[0m\u001b[0m_preprocess_data\u001b[0m\u001b[1;33m)\u001b[0m\u001b[1;33m\u001b[0m\u001b[1;33m\u001b[0m\u001b[0m\n",
      "\u001b[1;32mC:\\annaconda\\lib\\site-packages\\sklearn\\linear_model\\_base.py\u001b[0m in \u001b[0;36m_decision_function\u001b[1;34m(self, X)\u001b[0m\n\u001b[0;32m    219\u001b[0m \u001b[1;33m\u001b[0m\u001b[0m\n\u001b[0;32m    220\u001b[0m         \u001b[0mX\u001b[0m \u001b[1;33m=\u001b[0m \u001b[0mcheck_array\u001b[0m\u001b[1;33m(\u001b[0m\u001b[0mX\u001b[0m\u001b[1;33m,\u001b[0m \u001b[0maccept_sparse\u001b[0m\u001b[1;33m=\u001b[0m\u001b[1;33m[\u001b[0m\u001b[1;34m'csr'\u001b[0m\u001b[1;33m,\u001b[0m \u001b[1;34m'csc'\u001b[0m\u001b[1;33m,\u001b[0m \u001b[1;34m'coo'\u001b[0m\u001b[1;33m]\u001b[0m\u001b[1;33m)\u001b[0m\u001b[1;33m\u001b[0m\u001b[1;33m\u001b[0m\u001b[0m\n\u001b[1;32m--> 221\u001b[1;33m         return safe_sparse_dot(X, self.coef_.T,\n\u001b[0m\u001b[0;32m    222\u001b[0m                                dense_output=True) + self.intercept_\n\u001b[0;32m    223\u001b[0m \u001b[1;33m\u001b[0m\u001b[0m\n",
      "\u001b[1;32mC:\\annaconda\\lib\\site-packages\\sklearn\\utils\\validation.py\u001b[0m in \u001b[0;36minner_f\u001b[1;34m(*args, **kwargs)\u001b[0m\n\u001b[0;32m     61\u001b[0m             \u001b[0mextra_args\u001b[0m \u001b[1;33m=\u001b[0m \u001b[0mlen\u001b[0m\u001b[1;33m(\u001b[0m\u001b[0margs\u001b[0m\u001b[1;33m)\u001b[0m \u001b[1;33m-\u001b[0m \u001b[0mlen\u001b[0m\u001b[1;33m(\u001b[0m\u001b[0mall_args\u001b[0m\u001b[1;33m)\u001b[0m\u001b[1;33m\u001b[0m\u001b[1;33m\u001b[0m\u001b[0m\n\u001b[0;32m     62\u001b[0m             \u001b[1;32mif\u001b[0m \u001b[0mextra_args\u001b[0m \u001b[1;33m<=\u001b[0m \u001b[1;36m0\u001b[0m\u001b[1;33m:\u001b[0m\u001b[1;33m\u001b[0m\u001b[1;33m\u001b[0m\u001b[0m\n\u001b[1;32m---> 63\u001b[1;33m                 \u001b[1;32mreturn\u001b[0m \u001b[0mf\u001b[0m\u001b[1;33m(\u001b[0m\u001b[1;33m*\u001b[0m\u001b[0margs\u001b[0m\u001b[1;33m,\u001b[0m \u001b[1;33m**\u001b[0m\u001b[0mkwargs\u001b[0m\u001b[1;33m)\u001b[0m\u001b[1;33m\u001b[0m\u001b[1;33m\u001b[0m\u001b[0m\n\u001b[0m\u001b[0;32m     64\u001b[0m \u001b[1;33m\u001b[0m\u001b[0m\n\u001b[0;32m     65\u001b[0m             \u001b[1;31m# extra_args > 0\u001b[0m\u001b[1;33m\u001b[0m\u001b[1;33m\u001b[0m\u001b[0m\n",
      "\u001b[1;32mC:\\annaconda\\lib\\site-packages\\sklearn\\utils\\extmath.py\u001b[0m in \u001b[0;36msafe_sparse_dot\u001b[1;34m(a, b, dense_output)\u001b[0m\n\u001b[0;32m    150\u001b[0m             \u001b[0mret\u001b[0m \u001b[1;33m=\u001b[0m \u001b[0mnp\u001b[0m\u001b[1;33m.\u001b[0m\u001b[0mdot\u001b[0m\u001b[1;33m(\u001b[0m\u001b[0ma\u001b[0m\u001b[1;33m,\u001b[0m \u001b[0mb\u001b[0m\u001b[1;33m)\u001b[0m\u001b[1;33m\u001b[0m\u001b[1;33m\u001b[0m\u001b[0m\n\u001b[0;32m    151\u001b[0m     \u001b[1;32melse\u001b[0m\u001b[1;33m:\u001b[0m\u001b[1;33m\u001b[0m\u001b[1;33m\u001b[0m\u001b[0m\n\u001b[1;32m--> 152\u001b[1;33m         \u001b[0mret\u001b[0m \u001b[1;33m=\u001b[0m \u001b[0ma\u001b[0m \u001b[1;33m@\u001b[0m \u001b[0mb\u001b[0m\u001b[1;33m\u001b[0m\u001b[1;33m\u001b[0m\u001b[0m\n\u001b[0m\u001b[0;32m    153\u001b[0m \u001b[1;33m\u001b[0m\u001b[0m\n\u001b[0;32m    154\u001b[0m     if (sparse.issparse(a) and sparse.issparse(b)\n",
      "\u001b[1;31mKeyboardInterrupt\u001b[0m: "
     ]
    }
   ],
   "source": [
    "clustring_2(y,x,theta0=0,beta0=0,tau0=1000,lamda_0=2,nu_0=1,c=12,k1=0.001,k2=0.098,k3=0.9,epsilon=10^-1)"
   ]
  },
  {
   "cell_type": "code",
   "execution_count": 182,
   "id": "d0346d6c",
   "metadata": {},
   "outputs": [
    {
     "data": {
      "text/html": [
       "<div>\n",
       "<style scoped>\n",
       "    .dataframe tbody tr th:only-of-type {\n",
       "        vertical-align: middle;\n",
       "    }\n",
       "\n",
       "    .dataframe tbody tr th {\n",
       "        vertical-align: top;\n",
       "    }\n",
       "\n",
       "    .dataframe thead th {\n",
       "        text-align: right;\n",
       "    }\n",
       "</style>\n",
       "<table border=\"1\" class=\"dataframe\">\n",
       "  <thead>\n",
       "    <tr style=\"text-align: right;\">\n",
       "      <th></th>\n",
       "      <th>country</th>\n",
       "      <th>happiness</th>\n",
       "      <th>income</th>\n",
       "      <th>lifeexp</th>\n",
       "      <th>sanitation</th>\n",
       "      <th>water</th>\n",
       "      <th>urbanpopulation</th>\n",
       "      <th>unemployment</th>\n",
       "      <th>literacy</th>\n",
       "      <th>inequality</th>\n",
       "      <th>murder</th>\n",
       "      <th>energy</th>\n",
       "      <th>childmortality</th>\n",
       "      <th>fertility</th>\n",
       "      <th>hiv</th>\n",
       "      <th>foodsupply</th>\n",
       "      <th>population</th>\n",
       "    </tr>\n",
       "  </thead>\n",
       "  <tbody>\n",
       "    <tr>\n",
       "      <th>134</th>\n",
       "      <td>Uzbekistan</td>\n",
       "      <td>5.972364</td>\n",
       "      <td>0.042529</td>\n",
       "      <td>0.479245</td>\n",
       "      <td>1.000000</td>\n",
       "      <td>0.860884</td>\n",
       "      <td>0.038702</td>\n",
       "      <td>0.179549</td>\n",
       "      <td>0.994631</td>\n",
       "      <td>0.403017</td>\n",
       "      <td>0.039800</td>\n",
       "      <td>0.073320</td>\n",
       "      <td>0.175074</td>\n",
       "      <td>0.176860</td>\n",
       "      <td>0.045767</td>\n",
       "      <td>0.451087</td>\n",
       "      <td>0.021912</td>\n",
       "    </tr>\n",
       "    <tr>\n",
       "      <th>135</th>\n",
       "      <td>Venezuela</td>\n",
       "      <td>5.568800</td>\n",
       "      <td>0.125460</td>\n",
       "      <td>0.686792</td>\n",
       "      <td>0.945114</td>\n",
       "      <td>0.957447</td>\n",
       "      <td>0.261340</td>\n",
       "      <td>0.072722</td>\n",
       "      <td>0.942282</td>\n",
       "      <td>0.653017</td>\n",
       "      <td>0.204133</td>\n",
       "      <td>0.119168</td>\n",
       "      <td>0.106825</td>\n",
       "      <td>0.181818</td>\n",
       "      <td>0.017617</td>\n",
       "      <td>0.380435</td>\n",
       "      <td>0.022055</td>\n",
       "    </tr>\n",
       "    <tr>\n",
       "      <th>136</th>\n",
       "      <td>Vietnam</td>\n",
       "      <td>5.076315</td>\n",
       "      <td>0.042278</td>\n",
       "      <td>0.641509</td>\n",
       "      <td>0.765390</td>\n",
       "      <td>0.855974</td>\n",
       "      <td>0.117769</td>\n",
       "      <td>0.026288</td>\n",
       "      <td>0.914094</td>\n",
       "      <td>0.392241</td>\n",
       "      <td>0.060624</td>\n",
       "      <td>0.032056</td>\n",
       "      <td>0.146884</td>\n",
       "      <td>0.119008</td>\n",
       "      <td>0.044583</td>\n",
       "      <td>0.445652</td>\n",
       "      <td>0.066637</td>\n",
       "    </tr>\n",
       "    <tr>\n",
       "      <th>137</th>\n",
       "      <td>Yemen</td>\n",
       "      <td>2.982674</td>\n",
       "      <td>0.016896</td>\n",
       "      <td>0.373585</td>\n",
       "      <td>0.566294</td>\n",
       "      <td>0.515548</td>\n",
       "      <td>0.056076</td>\n",
       "      <td>0.049505</td>\n",
       "      <td>0.536913</td>\n",
       "      <td>0.433190</td>\n",
       "      <td>0.060624</td>\n",
       "      <td>0.014148</td>\n",
       "      <td>0.393917</td>\n",
       "      <td>0.472727</td>\n",
       "      <td>0.003866</td>\n",
       "      <td>0.157609</td>\n",
       "      <td>0.018983</td>\n",
       "    </tr>\n",
       "    <tr>\n",
       "      <th>138</th>\n",
       "      <td>Zambia</td>\n",
       "      <td>4.843164</td>\n",
       "      <td>0.025189</td>\n",
       "      <td>0.030189</td>\n",
       "      <td>0.258502</td>\n",
       "      <td>0.364975</td>\n",
       "      <td>0.101124</td>\n",
       "      <td>0.179549</td>\n",
       "      <td>0.484564</td>\n",
       "      <td>0.872845</td>\n",
       "      <td>0.060624</td>\n",
       "      <td>0.030977</td>\n",
       "      <td>0.474036</td>\n",
       "      <td>0.628099</td>\n",
       "      <td>0.173163</td>\n",
       "      <td>0.000000</td>\n",
       "      <td>0.011267</td>\n",
       "    </tr>\n",
       "    <tr>\n",
       "      <th>139</th>\n",
       "      <td>Zimbabwe</td>\n",
       "      <td>3.703191</td>\n",
       "      <td>0.010613</td>\n",
       "      <td>0.037736</td>\n",
       "      <td>0.339217</td>\n",
       "      <td>0.453355</td>\n",
       "      <td>0.058573</td>\n",
       "      <td>0.224850</td>\n",
       "      <td>0.782550</td>\n",
       "      <td>0.573276</td>\n",
       "      <td>0.060624</td>\n",
       "      <td>0.037180</td>\n",
       "      <td>0.428042</td>\n",
       "      <td>0.429752</td>\n",
       "      <td>0.214237</td>\n",
       "      <td>0.097826</td>\n",
       "      <td>0.011053</td>\n",
       "    </tr>\n",
       "  </tbody>\n",
       "</table>\n",
       "</div>"
      ],
      "text/plain": [
       "        country  happiness    income   lifeexp  sanitation     water  \\\n",
       "134  Uzbekistan   5.972364  0.042529  0.479245    1.000000  0.860884   \n",
       "135   Venezuela   5.568800  0.125460  0.686792    0.945114  0.957447   \n",
       "136     Vietnam   5.076315  0.042278  0.641509    0.765390  0.855974   \n",
       "137       Yemen   2.982674  0.016896  0.373585    0.566294  0.515548   \n",
       "138      Zambia   4.843164  0.025189  0.030189    0.258502  0.364975   \n",
       "139    Zimbabwe   3.703191  0.010613  0.037736    0.339217  0.453355   \n",
       "\n",
       "     urbanpopulation  unemployment  literacy  inequality    murder    energy  \\\n",
       "134         0.038702      0.179549  0.994631    0.403017  0.039800  0.073320   \n",
       "135         0.261340      0.072722  0.942282    0.653017  0.204133  0.119168   \n",
       "136         0.117769      0.026288  0.914094    0.392241  0.060624  0.032056   \n",
       "137         0.056076      0.049505  0.536913    0.433190  0.060624  0.014148   \n",
       "138         0.101124      0.179549  0.484564    0.872845  0.060624  0.030977   \n",
       "139         0.058573      0.224850  0.782550    0.573276  0.060624  0.037180   \n",
       "\n",
       "     childmortality  fertility       hiv  foodsupply  population  \n",
       "134        0.175074   0.176860  0.045767    0.451087    0.021912  \n",
       "135        0.106825   0.181818  0.017617    0.380435    0.022055  \n",
       "136        0.146884   0.119008  0.044583    0.445652    0.066637  \n",
       "137        0.393917   0.472727  0.003866    0.157609    0.018983  \n",
       "138        0.474036   0.628099  0.173163    0.000000    0.011267  \n",
       "139        0.428042   0.429752  0.214237    0.097826    0.011053  "
      ]
     },
     "execution_count": 182,
     "metadata": {},
     "output_type": "execute_result"
    }
   ],
   "source": [
    "data.tail(6)"
   ]
  },
  {
   "cell_type": "code",
   "execution_count": 184,
   "id": "1be796c4",
   "metadata": {},
   "outputs": [
    {
     "data": {
      "text/plain": [
       "country            Zimbabwe\n",
       "happiness          3.703191\n",
       "income             0.010613\n",
       "lifeexp            0.037736\n",
       "sanitation         0.339217\n",
       "water              0.453355\n",
       "urbanpopulation    0.058573\n",
       "unemployment        0.22485\n",
       "literacy            0.78255\n",
       "inequality         0.573276\n",
       "murder             0.060624\n",
       "energy              0.03718\n",
       "childmortality     0.428042\n",
       "fertility          0.429752\n",
       "hiv                0.214237\n",
       "foodsupply         0.097826\n",
       "population         0.011053\n",
       "Name: 139, dtype: object"
      ]
     },
     "execution_count": 184,
     "metadata": {},
     "output_type": "execute_result"
    }
   ],
   "source": [
    "data.loc[139]"
   ]
  }
 ],
 "metadata": {
  "kernelspec": {
   "display_name": "Python 3 (ipykernel)",
   "language": "python",
   "name": "python3"
  },
  "language_info": {
   "codemirror_mode": {
    "name": "ipython",
    "version": 3
   },
   "file_extension": ".py",
   "mimetype": "text/x-python",
   "name": "python",
   "nbconvert_exporter": "python",
   "pygments_lexer": "ipython3",
   "version": "3.9.7"
  }
 },
 "nbformat": 4,
 "nbformat_minor": 5
}
